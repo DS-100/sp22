{
 "cells": [
  {
   "cell_type": "markdown",
   "metadata": {},
   "source": [
    "# Discussion 2: Pandas Practice\n",
    "\n",
    "We will begin our discussion of [Pandas](https://pandas.pydata.org/). You will practice:\n",
    "\n",
    "* Selecting columns\n",
    "* Filtering with boolean conditions \n",
    "* Counting with `value_counts`"
   ]
  },
  {
   "cell_type": "code",
   "execution_count": 2,
   "metadata": {},
   "outputs": [],
   "source": [
    "import pandas as pd\n",
    "import numpy as np"
   ]
  },
  {
   "cell_type": "markdown",
   "metadata": {
    "ExecuteTime": {
     "end_time": "2020-09-11T21:53:25.805543Z",
     "start_time": "2020-09-11T21:53:25.230507Z"
    }
   },
   "source": [
    "## Pandas Practise\n",
    "\n",
    "In the first Pandas question, we will be working with the `elections` dataset from lecture."
   ]
  },
  {
   "cell_type": "code",
   "execution_count": 3,
   "metadata": {},
   "outputs": [
    {
     "data": {
      "text/html": [
       "<div>\n",
       "<style scoped>\n",
       "    .dataframe tbody tr th:only-of-type {\n",
       "        vertical-align: middle;\n",
       "    }\n",
       "\n",
       "    .dataframe tbody tr th {\n",
       "        vertical-align: top;\n",
       "    }\n",
       "\n",
       "    .dataframe thead th {\n",
       "        text-align: right;\n",
       "    }\n",
       "</style>\n",
       "<table border=\"1\" class=\"dataframe\">\n",
       "  <thead>\n",
       "    <tr style=\"text-align: right;\">\n",
       "      <th></th>\n",
       "      <th>Year</th>\n",
       "      <th>Candidate</th>\n",
       "      <th>Party</th>\n",
       "      <th>Popular vote</th>\n",
       "      <th>Result</th>\n",
       "      <th>%</th>\n",
       "    </tr>\n",
       "  </thead>\n",
       "  <tbody>\n",
       "    <tr>\n",
       "      <th>0</th>\n",
       "      <td>1824</td>\n",
       "      <td>Andrew Jackson</td>\n",
       "      <td>Democratic-Republican</td>\n",
       "      <td>151271</td>\n",
       "      <td>loss</td>\n",
       "      <td>57.210122</td>\n",
       "    </tr>\n",
       "    <tr>\n",
       "      <th>1</th>\n",
       "      <td>1824</td>\n",
       "      <td>John Quincy Adams</td>\n",
       "      <td>Democratic-Republican</td>\n",
       "      <td>113142</td>\n",
       "      <td>win</td>\n",
       "      <td>42.789878</td>\n",
       "    </tr>\n",
       "    <tr>\n",
       "      <th>2</th>\n",
       "      <td>1828</td>\n",
       "      <td>Andrew Jackson</td>\n",
       "      <td>Democratic</td>\n",
       "      <td>642806</td>\n",
       "      <td>win</td>\n",
       "      <td>56.203927</td>\n",
       "    </tr>\n",
       "    <tr>\n",
       "      <th>3</th>\n",
       "      <td>1828</td>\n",
       "      <td>John Quincy Adams</td>\n",
       "      <td>National Republican</td>\n",
       "      <td>500897</td>\n",
       "      <td>loss</td>\n",
       "      <td>43.796073</td>\n",
       "    </tr>\n",
       "    <tr>\n",
       "      <th>4</th>\n",
       "      <td>1832</td>\n",
       "      <td>Andrew Jackson</td>\n",
       "      <td>Democratic</td>\n",
       "      <td>702735</td>\n",
       "      <td>win</td>\n",
       "      <td>54.574789</td>\n",
       "    </tr>\n",
       "  </tbody>\n",
       "</table>\n",
       "</div>"
      ],
      "text/plain": [
       "   Year          Candidate                  Party  Popular vote Result  \\\n",
       "0  1824     Andrew Jackson  Democratic-Republican        151271   loss   \n",
       "1  1824  John Quincy Adams  Democratic-Republican        113142    win   \n",
       "2  1828     Andrew Jackson             Democratic        642806    win   \n",
       "3  1828  John Quincy Adams    National Republican        500897   loss   \n",
       "4  1832     Andrew Jackson             Democratic        702735    win   \n",
       "\n",
       "           %  \n",
       "0  57.210122  \n",
       "1  42.789878  \n",
       "2  56.203927  \n",
       "3  43.796073  \n",
       "4  54.574789  "
      ]
     },
     "execution_count": 3,
     "metadata": {},
     "output_type": "execute_result"
    }
   ],
   "source": [
    "elections = pd.read_csv(\"elections.csv\")\n",
    "elections.head(5)"
   ]
  },
  {
   "cell_type": "markdown",
   "metadata": {},
   "source": [
    "### Question 5\n",
    "\n",
    "We want to select the \"Popular vote\" column as a `pd.Series`. Which of the following lines of code will error?\n",
    "\n",
    "- `elections['Popular vote']`\n",
    "- `elections.iloc['Popular vote']`\n",
    "- `elections.loc['Popular vote']`\n",
    "- `elections.loc[:, 'Popular vote']`\n",
    "- `elections.iloc[:, 'Popular vote']`\n",
    "\n",
    "Run each line in the cell below and see for yourself!"
   ]
  },
  {
   "cell_type": "code",
   "execution_count": null,
   "metadata": {
    "scrolled": true
   },
   "outputs": [],
   "source": [
    "# elections.iloc['Popular vote']\n",
    "# elections.iloc[:, 'Popular vote']\n",
    "# elections.loc['Popular vote']"
   ]
  },
  {
   "cell_type": "markdown",
   "metadata": {},
   "source": [
    "### Question 6\n",
    "\n",
    "Write one line of Pandas code that returns a `pd.DataFrame` that only contains election results from the 1900s."
   ]
  },
  {
   "cell_type": "code",
   "execution_count": 12,
   "metadata": {},
   "outputs": [
    {
     "data": {
      "text/html": [
       "<div>\n",
       "<style scoped>\n",
       "    .dataframe tbody tr th:only-of-type {\n",
       "        vertical-align: middle;\n",
       "    }\n",
       "\n",
       "    .dataframe tbody tr th {\n",
       "        vertical-align: top;\n",
       "    }\n",
       "\n",
       "    .dataframe thead th {\n",
       "        text-align: right;\n",
       "    }\n",
       "</style>\n",
       "<table border=\"1\" class=\"dataframe\">\n",
       "  <thead>\n",
       "    <tr style=\"text-align: right;\">\n",
       "      <th></th>\n",
       "      <th>Year</th>\n",
       "      <th>Candidate</th>\n",
       "      <th>Party</th>\n",
       "      <th>Popular vote</th>\n",
       "      <th>Result</th>\n",
       "      <th>%</th>\n",
       "    </tr>\n",
       "  </thead>\n",
       "  <tbody>\n",
       "    <tr>\n",
       "      <th>57</th>\n",
       "      <td>1904</td>\n",
       "      <td>Alton B. Parker</td>\n",
       "      <td>Democratic</td>\n",
       "      <td>5083880</td>\n",
       "      <td>loss</td>\n",
       "      <td>37.685116</td>\n",
       "    </tr>\n",
       "    <tr>\n",
       "      <th>58</th>\n",
       "      <td>1904</td>\n",
       "      <td>Eugene V. Debs</td>\n",
       "      <td>Socialist</td>\n",
       "      <td>402810</td>\n",
       "      <td>loss</td>\n",
       "      <td>2.985897</td>\n",
       "    </tr>\n",
       "    <tr>\n",
       "      <th>59</th>\n",
       "      <td>1904</td>\n",
       "      <td>Silas C. Swallow</td>\n",
       "      <td>Prohibition</td>\n",
       "      <td>259102</td>\n",
       "      <td>loss</td>\n",
       "      <td>1.920637</td>\n",
       "    </tr>\n",
       "    <tr>\n",
       "      <th>60</th>\n",
       "      <td>1904</td>\n",
       "      <td>Theodore Roosevelt</td>\n",
       "      <td>Republican</td>\n",
       "      <td>7630557</td>\n",
       "      <td>win</td>\n",
       "      <td>56.562787</td>\n",
       "    </tr>\n",
       "    <tr>\n",
       "      <th>61</th>\n",
       "      <td>1904</td>\n",
       "      <td>Thomas E. Watson</td>\n",
       "      <td>Populist</td>\n",
       "      <td>114070</td>\n",
       "      <td>loss</td>\n",
       "      <td>0.845563</td>\n",
       "    </tr>\n",
       "    <tr>\n",
       "      <th>...</th>\n",
       "      <td>...</td>\n",
       "      <td>...</td>\n",
       "      <td>...</td>\n",
       "      <td>...</td>\n",
       "      <td>...</td>\n",
       "      <td>...</td>\n",
       "    </tr>\n",
       "    <tr>\n",
       "      <th>173</th>\n",
       "      <td>2016</td>\n",
       "      <td>Donald Trump</td>\n",
       "      <td>Republican</td>\n",
       "      <td>62984828</td>\n",
       "      <td>win</td>\n",
       "      <td>46.407862</td>\n",
       "    </tr>\n",
       "    <tr>\n",
       "      <th>174</th>\n",
       "      <td>2016</td>\n",
       "      <td>Evan McMullin</td>\n",
       "      <td>Independent</td>\n",
       "      <td>732273</td>\n",
       "      <td>loss</td>\n",
       "      <td>0.539546</td>\n",
       "    </tr>\n",
       "    <tr>\n",
       "      <th>175</th>\n",
       "      <td>2016</td>\n",
       "      <td>Gary Johnson</td>\n",
       "      <td>Libertarian</td>\n",
       "      <td>4489235</td>\n",
       "      <td>loss</td>\n",
       "      <td>3.307714</td>\n",
       "    </tr>\n",
       "    <tr>\n",
       "      <th>176</th>\n",
       "      <td>2016</td>\n",
       "      <td>Hillary Clinton</td>\n",
       "      <td>Democratic</td>\n",
       "      <td>65853514</td>\n",
       "      <td>loss</td>\n",
       "      <td>48.521539</td>\n",
       "    </tr>\n",
       "    <tr>\n",
       "      <th>177</th>\n",
       "      <td>2016</td>\n",
       "      <td>Jill Stein</td>\n",
       "      <td>Green</td>\n",
       "      <td>1457226</td>\n",
       "      <td>loss</td>\n",
       "      <td>1.073699</td>\n",
       "    </tr>\n",
       "  </tbody>\n",
       "</table>\n",
       "<p>121 rows × 6 columns</p>\n",
       "</div>"
      ],
      "text/plain": [
       "     Year           Candidate        Party  Popular vote Result          %\n",
       "57   1904     Alton B. Parker   Democratic       5083880   loss  37.685116\n",
       "58   1904      Eugene V. Debs    Socialist        402810   loss   2.985897\n",
       "59   1904    Silas C. Swallow  Prohibition        259102   loss   1.920637\n",
       "60   1904  Theodore Roosevelt   Republican       7630557    win  56.562787\n",
       "61   1904    Thomas E. Watson     Populist        114070   loss   0.845563\n",
       "..    ...                 ...          ...           ...    ...        ...\n",
       "173  2016        Donald Trump   Republican      62984828    win  46.407862\n",
       "174  2016       Evan McMullin  Independent        732273   loss   0.539546\n",
       "175  2016        Gary Johnson  Libertarian       4489235   loss   3.307714\n",
       "176  2016     Hillary Clinton   Democratic      65853514   loss  48.521539\n",
       "177  2016          Jill Stein        Green       1457226   loss   1.073699\n",
       "\n",
       "[121 rows x 6 columns]"
      ]
     },
     "execution_count": 12,
     "metadata": {},
     "output_type": "execute_result"
    }
   ],
   "source": [
    "# Your answer here\n",
    "elections[elections['Year'] > 1900]"
   ]
  },
  {
   "cell_type": "markdown",
   "metadata": {},
   "source": [
    "### Question 7\n",
    "\n",
    "Write one line of Pandas code that returns a `pd.Series`, where the index is the Party, and the values are how many times that party won an election. Hint: use `value_counts`."
   ]
  },
  {
   "cell_type": "code",
   "execution_count": 30,
   "metadata": {},
   "outputs": [
    {
     "data": {
      "text/plain": [
       "Republican               23\n",
       "Democratic               22\n",
       "Whig                      2\n",
       "Democratic-Republican     1\n",
       "National Union            1\n",
       "Name: Party, dtype: int64"
      ]
     },
     "execution_count": 30,
     "metadata": {},
     "output_type": "execute_result"
    }
   ],
   "source": [
    "# Your answer here\n",
    "elections[elections['Result'] == 'win']['Party'].value_counts()"
   ]
  },
  {
   "cell_type": "markdown",
   "metadata": {},
   "source": [
    "## Grading Assistance (Bonus)\n",
    "\n",
    "Fernando is writing a grading script to compute grades for students in Data 101. Recall that many factors go into computing a student’s final grade, including homework, discussion, exams, and labs. In this question, we will help Fernando compute the homework grades for all students using a DataFrame, `hw_grades`, provided by Gradescope.\n",
    "\n",
    "The Pandas DataFrame `hw_grades` contains homework grades for all students for all homework assignments, with one row for each combination of student and homework assignment. Any assignments that are incomplete are denoted by NaN (missing) values, and any late assignments are denoted by a True boolean value in the Late column. You may assume that the names of students are unique. Below is a sample of `hw_grades`."
   ]
  },
  {
   "cell_type": "code",
   "execution_count": 4,
   "metadata": {},
   "outputs": [
    {
     "data": {
      "text/html": [
       "<div>\n",
       "<style scoped>\n",
       "    .dataframe tbody tr th:only-of-type {\n",
       "        vertical-align: middle;\n",
       "    }\n",
       "\n",
       "    .dataframe tbody tr th {\n",
       "        vertical-align: top;\n",
       "    }\n",
       "\n",
       "    .dataframe thead th {\n",
       "        text-align: right;\n",
       "    }\n",
       "</style>\n",
       "<table border=\"1\" class=\"dataframe\">\n",
       "  <thead>\n",
       "    <tr style=\"text-align: right;\">\n",
       "      <th></th>\n",
       "      <th>Name</th>\n",
       "      <th>Assignment</th>\n",
       "      <th>Grade</th>\n",
       "      <th>Late</th>\n",
       "    </tr>\n",
       "  </thead>\n",
       "  <tbody>\n",
       "    <tr>\n",
       "      <th>28</th>\n",
       "      <td>Sid</td>\n",
       "      <td>Homework 9</td>\n",
       "      <td>82.517998</td>\n",
       "      <td>True</td>\n",
       "    </tr>\n",
       "    <tr>\n",
       "      <th>11</th>\n",
       "      <td>Ash</td>\n",
       "      <td>Homework 2</td>\n",
       "      <td>78.264844</td>\n",
       "      <td>True</td>\n",
       "    </tr>\n",
       "    <tr>\n",
       "      <th>10</th>\n",
       "      <td>Ash</td>\n",
       "      <td>Homework 1</td>\n",
       "      <td>98.421049</td>\n",
       "      <td>False</td>\n",
       "    </tr>\n",
       "    <tr>\n",
       "      <th>41</th>\n",
       "      <td>Emily</td>\n",
       "      <td>Homework 2</td>\n",
       "      <td>62.900313</td>\n",
       "      <td>False</td>\n",
       "    </tr>\n",
       "    <tr>\n",
       "      <th>2</th>\n",
       "      <td>Meg</td>\n",
       "      <td>Homework 3</td>\n",
       "      <td>89.785619</td>\n",
       "      <td>False</td>\n",
       "    </tr>\n",
       "  </tbody>\n",
       "</table>\n",
       "</div>"
      ],
      "text/plain": [
       "     Name  Assignment      Grade   Late\n",
       "28    Sid  Homework 9  82.517998   True\n",
       "11    Ash  Homework 2  78.264844   True\n",
       "10    Ash  Homework 1  98.421049  False\n",
       "41  Emily  Homework 2  62.900313  False\n",
       "2     Meg  Homework 3  89.785619  False"
      ]
     },
     "execution_count": 4,
     "metadata": {},
     "output_type": "execute_result"
    }
   ],
   "source": [
    "hw_grades = pd.read_csv(\"hw_grades.csv\")\n",
    "hw_grades.sample(5, random_state = 0)"
   ]
  },
  {
   "cell_type": "markdown",
   "metadata": {},
   "source": [
    "### Question 8a\n",
    "\n",
    "Assuming there is a late penalty that causes a 10% grade reduction to the student’s\n",
    "current score (i.e. a 65% score would become a 65% - 6.5% = 58.5%), write a line\n",
    "of Pandas code to calculate all the homework grades, including the late penalty if\n",
    "applicable, and store it in a column named `’LPGrade’`."
   ]
  },
  {
   "cell_type": "code",
   "execution_count": 5,
   "metadata": {
    "scrolled": true
   },
   "outputs": [
    {
     "data": {
      "text/html": [
       "<div>\n",
       "<style scoped>\n",
       "    .dataframe tbody tr th:only-of-type {\n",
       "        vertical-align: middle;\n",
       "    }\n",
       "\n",
       "    .dataframe tbody tr th {\n",
       "        vertical-align: top;\n",
       "    }\n",
       "\n",
       "    .dataframe thead th {\n",
       "        text-align: right;\n",
       "    }\n",
       "</style>\n",
       "<table border=\"1\" class=\"dataframe\">\n",
       "  <thead>\n",
       "    <tr style=\"text-align: right;\">\n",
       "      <th></th>\n",
       "      <th>Name</th>\n",
       "      <th>Assignment</th>\n",
       "      <th>Grade</th>\n",
       "      <th>Late</th>\n",
       "      <th>LPGrade</th>\n",
       "    </tr>\n",
       "  </thead>\n",
       "  <tbody>\n",
       "    <tr>\n",
       "      <th>28</th>\n",
       "      <td>Sid</td>\n",
       "      <td>Homework 9</td>\n",
       "      <td>82.517998</td>\n",
       "      <td>True</td>\n",
       "      <td>74.266198</td>\n",
       "    </tr>\n",
       "    <tr>\n",
       "      <th>11</th>\n",
       "      <td>Ash</td>\n",
       "      <td>Homework 2</td>\n",
       "      <td>78.264844</td>\n",
       "      <td>True</td>\n",
       "      <td>70.438360</td>\n",
       "    </tr>\n",
       "    <tr>\n",
       "      <th>10</th>\n",
       "      <td>Ash</td>\n",
       "      <td>Homework 1</td>\n",
       "      <td>98.421049</td>\n",
       "      <td>False</td>\n",
       "      <td>98.421049</td>\n",
       "    </tr>\n",
       "    <tr>\n",
       "      <th>41</th>\n",
       "      <td>Emily</td>\n",
       "      <td>Homework 2</td>\n",
       "      <td>62.900313</td>\n",
       "      <td>False</td>\n",
       "      <td>62.900313</td>\n",
       "    </tr>\n",
       "    <tr>\n",
       "      <th>2</th>\n",
       "      <td>Meg</td>\n",
       "      <td>Homework 3</td>\n",
       "      <td>89.785619</td>\n",
       "      <td>False</td>\n",
       "      <td>89.785619</td>\n",
       "    </tr>\n",
       "  </tbody>\n",
       "</table>\n",
       "</div>"
      ],
      "text/plain": [
       "     Name  Assignment      Grade   Late    LPGrade\n",
       "28    Sid  Homework 9  82.517998   True  74.266198\n",
       "11    Ash  Homework 2  78.264844   True  70.438360\n",
       "10    Ash  Homework 1  98.421049  False  98.421049\n",
       "41  Emily  Homework 2  62.900313  False  62.900313\n",
       "2     Meg  Homework 3  89.785619  False  89.785619"
      ]
     },
     "execution_count": 5,
     "metadata": {},
     "output_type": "execute_result"
    }
   ],
   "source": [
    "# Your answer here\n",
    "hw_grades['LPGrade'] = (1- hw_grades['Late'] * 0.1) * hw_grades['Grade']\n",
    "hw_grades.sample(5, random_state = 0)"
   ]
  },
  {
   "cell_type": "markdown",
   "metadata": {},
   "source": [
    "### Question 8b\n",
    "\n",
    "Which of the following expressions outputs the students’ names and number of late\n",
    "assignments, from least to greatest number of late assignments?\n",
    "\n",
    "- `hw_grades.groupby([’Name’]).sum().sort_values()`\n",
    "- `hw_grades.groupby([’Name’, ’Late’]).sum().sort_values()`\n",
    "- `hw_grades.groupby([’Name’]).sum()[’Late’].sort_values()`\n",
    "- `hw_grades.groupby([’Name’]).sum().sort_values()[’Late’]`"
   ]
  },
  {
   "cell_type": "code",
   "execution_count": 64,
   "metadata": {},
   "outputs": [
    {
     "data": {
      "text/plain": [
       "Name\n",
       "Sid      1\n",
       "Emily    2\n",
       "Meg      2\n",
       "Ash      3\n",
       "Smith    3\n",
       "Name: Late, dtype: int64"
      ]
     },
     "execution_count": 64,
     "metadata": {},
     "output_type": "execute_result"
    }
   ],
   "source": [
    "# Your answer here\n",
    "hw_grades.groupby(['Name']).sum()['Late'].sort_values()"
   ]
  },
  {
   "cell_type": "markdown",
   "metadata": {
    "tags": []
   },
   "source": [
    "### Question 8c\n",
    "\n",
    "If each assignment is weighted equally, fill in the blanks below to calculate each student’s overall homework grade, including late penalties for any applicable assignments.\n",
    "\n",
    "*Hint:* Recall that incomplete assignments have NaN values. How can we use `fillna` to replace these null values?\n",
    "\n",
    "```\n",
    "hw_grades._________(_______) \\\n",
    "         .groupby(___________)[____________] \\\n",
    "         .agg(____________)\n",
    "```"
   ]
  },
  {
   "cell_type": "code",
   "execution_count": 86,
   "metadata": {},
   "outputs": [
    {
     "data": {
      "text/plain": [
       "Name\n",
       "Ash      83.276175\n",
       "Emily    86.160189\n",
       "Meg      70.805557\n",
       "Sid      63.845909\n",
       "Smith    60.437093\n",
       "Name: Grade, dtype: float64"
      ]
     },
     "execution_count": 86,
     "metadata": {},
     "output_type": "execute_result"
    }
   ],
   "source": [
    "# Your answer here\n",
    "hw_grades.fillna(0) \\\n",
    "         .groupby('Name')['Grade'] \\\n",
    "         .agg('mean')"
   ]
  },
  {
   "cell_type": "markdown",
   "metadata": {},
   "source": [
    "### Question 8d\n",
    "\n",
    "Of all the homework assignments, which are the most difficult in terms of the median grade? Order by the median grade, from lowest to greatest. Do not consider incomplete assignments or late penalties in this calculation.\n",
    "\n",
    "Fill in the blanks below to answer this question.\n",
    "\n",
    "*Hint:* Recall that incomplete assignments have NaN values. How can we use `dropna` to remove these null values?\n",
    "\n",
    "```\n",
    "hw_grades._________() \\\n",
    "         .groupby(___________)[____________] \\\n",
    "         .agg(____________) \\\n",
    "         .sort_values()\n",
    "```"
   ]
  },
  {
   "cell_type": "code",
   "execution_count": 6,
   "metadata": {},
   "outputs": [
    {
     "data": {
      "text/plain": [
       "Assignment\n",
       "Homework 2     64.176381\n",
       "Homework 10    66.366211\n",
       "Homework 5     74.372434\n",
       "Homework 4     78.207572\n",
       "Homework 3     78.348163\n",
       "Homework 9     82.517998\n",
       "Homework 8     85.817938\n",
       "Homework 1     86.958554\n",
       "Homework 6     88.409227\n",
       "Homework 7     92.200688\n",
       "Name: Grade, dtype: float64"
      ]
     },
     "execution_count": 6,
     "metadata": {},
     "output_type": "execute_result"
    }
   ],
   "source": [
    "# Your answer here\n",
    "hw_grades.dropna() \\\n",
    "         .groupby('Assignment')['Grade'] \\\n",
    "         .agg('median') \\\n",
    "         .sort_values()"
   ]
  }
 ],
 "metadata": {
  "celltoolbar": "Edit Metadata",
  "kernelspec": {
   "display_name": "Python 3 (ipykernel)",
   "language": "python",
   "name": "python3"
  },
  "language_info": {
   "codemirror_mode": {
    "name": "ipython",
    "version": 3
   },
   "file_extension": ".py",
   "mimetype": "text/x-python",
   "name": "python",
   "nbconvert_exporter": "python",
   "pygments_lexer": "ipython3",
   "version": "3.9.7"
  },
  "toc": {
   "base_numbering": 1,
   "nav_menu": {},
   "number_sections": true,
   "sideBar": true,
   "skip_h1_title": false,
   "title_cell": "Table of Contents",
   "title_sidebar": "Contents",
   "toc_cell": false,
   "toc_position": {},
   "toc_section_display": true,
   "toc_window_display": false
  },
  "varInspector": {
   "cols": {
    "lenName": 16,
    "lenType": 16,
    "lenVar": 40
   },
   "kernels_config": {
    "python": {
     "delete_cmd_postfix": "",
     "delete_cmd_prefix": "del ",
     "library": "var_list.py",
     "varRefreshCmd": "print(var_dic_list())"
    },
    "r": {
     "delete_cmd_postfix": ") ",
     "delete_cmd_prefix": "rm(",
     "library": "var_list.r",
     "varRefreshCmd": "cat(var_dic_list()) "
    }
   },
   "types_to_exclude": [
    "module",
    "function",
    "builtin_function_or_method",
    "instance",
    "_Feature"
   ],
   "window_display": false
  }
 },
 "nbformat": 4,
 "nbformat_minor": 4
}
