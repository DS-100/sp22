{
 "cells": [
  {
   "cell_type": "code",
   "execution_count": null,
   "metadata": {},
   "outputs": [],
   "source": [
    "import numpy as np\n",
    "import pandas as pd\n",
    "import plotly.graph_objects as go\n",
    "import plotly.express as px\n",
    "import plotly.figure_factory as ff"
   ]
  },
  {
   "cell_type": "markdown",
   "metadata": {},
   "source": [
    "# Fitting Linear Models"
   ]
  },
  {
   "cell_type": "markdown",
   "metadata": {},
   "source": [
    "In this notebook we briefly review the normal equations, introduce the scikit-learn framework, evaluation metrics, and describe methods to visualize model fit."
   ]
  },
  {
   "cell_type": "markdown",
   "metadata": {},
   "source": [
    "## Toy Data set\n",
    "\n",
    "To enable easy visualization of the model fitting process we will use a simple synthetic data set."
   ]
  },
  {
   "cell_type": "code",
   "execution_count": null,
   "metadata": {},
   "outputs": [],
   "source": [
    "data = pd.read_csv(\"data/synthetic_data.csv\")\n",
    "data.head()"
   ]
  },
  {
   "cell_type": "markdown",
   "metadata": {},
   "source": [
    "We can visualize the data in three dimensions:"
   ]
  },
  {
   "cell_type": "code",
   "execution_count": null,
   "metadata": {},
   "outputs": [],
   "source": [
    "data_scatter = go.Scatter3d(x=data[\"X0\"], y=data[\"X1\"], z=data[\"Y\"], \n",
    "                            mode=\"markers\",\n",
    "                            marker=dict(size=2))\n",
    "layout = dict(margin=dict(l=0, r=0, t=0, b=0), \n",
    "              height=600,\n",
    "              scene = dict(xaxis_title='X0', yaxis_title='X1', zaxis_title='Y'))\n",
    "go.Figure([data_scatter], layout)"
   ]
  },
  {
   "cell_type": "markdown",
   "metadata": {},
   "source": [
    "## Fitting an Ordinary Least Squares Model\n",
    "\n",
    "Given a model of the form: \n",
    "\n",
    "$$\n",
    "\\hat{\\mathbb{Y}} = f_\\theta(\\mathbb{X}) = \\mathbb{X} \\theta\n",
    "$$\n",
    "\n",
    "and taking the average squared loss over our data:\n",
    "\n",
    "$$\n",
    "R(\\theta) = \\frac{1}{n}\\sum_{i=1}^n \\left(\\mathbb{Y}_i - (\\mathbb{X}\\theta)_i\\right)^2\n",
    "$$\n",
    "\n",
    "In lecture, we showed that the $\\hat{\\theta}$ that minimizes this loss:\n",
    "\n",
    "$$\n",
    "\\hat{\\theta} = \\arg\\min_\\theta R(\\theta)\n",
    "$$\n",
    "\n",
    "is given by the solution to the normal equations:\n",
    "\n",
    "$$\n",
    " \\hat{\\theta} = \\left( \\mathbb{X}^T \\mathbb{X} \\right)^{-1} \\mathbb{X}^T \\mathbb{Y}\n",
    "$$\n"
   ]
  },
  {
   "cell_type": "markdown",
   "metadata": {},
   "source": [
    "We can directly implement this expression using standard linear algebra routines:"
   ]
  },
  {
   "cell_type": "code",
   "execution_count": null,
   "metadata": {},
   "outputs": [],
   "source": [
    "from numpy.linalg import inv\n",
    "def ordinary_least_squares(X, Y):\n",
    "    return inv(X.T @ X) @ X.T @ Y"
   ]
  },
  {
   "cell_type": "code",
   "execution_count": null,
   "metadata": {},
   "outputs": [],
   "source": [
    "theta_hat = ordinary_least_squares(data[[\"X0\", \"X1\"]], data[[\"Y\"]])\n",
    "theta_hat"
   ]
  },
  {
   "cell_type": "markdown",
   "metadata": {},
   "source": [
    "A more efficient way to solve the normal equations is using the `solve` function to solve the linear systems:\n",
    "\n",
    "$$\n",
    "\\mathbb{X}^T \\mathbb{X} \\theta = \\mathbb{X}^T \\mathbb{Y}\n",
    "$$\n",
    "\n",
    "can be simplified to:\n",
    "\n",
    "$$\n",
    "A \\theta = b\n",
    "$$\n",
    "\n",
    "where $A=\\mathbb{X}^T \\mathbb{X}$ and $b=\\mathbb{X}^T \\mathbb{Y}$:"
   ]
  },
  {
   "cell_type": "code",
   "execution_count": null,
   "metadata": {},
   "outputs": [],
   "source": [
    "from numpy.linalg import solve\n",
    "def ordinary_least_squares(X, Y):\n",
    "    return solve(X.T @ X, X.T @ Y)"
   ]
  },
  {
   "cell_type": "code",
   "execution_count": null,
   "metadata": {},
   "outputs": [],
   "source": [
    "theta_hat = ordinary_least_squares(data[[\"X0\", \"X1\"]], data[[\"Y\"]])\n",
    "theta_hat"
   ]
  },
  {
   "cell_type": "markdown",
   "metadata": {},
   "source": [
    "Notice that this second implementation produces a numpy array?  This is because Pandas actually implements inversion but the solve routine is entirely in numpy."
   ]
  },
  {
   "cell_type": "markdown",
   "metadata": {},
   "source": [
    "## Making A Prediction\n",
    "\n",
    "We can use our $\\hat{\\theta}$ to make predictions:\n",
    "\n",
    "$$\n",
    "\\hat{y} = X \\hat{\\theta}\n",
    "$$"
   ]
  },
  {
   "cell_type": "code",
   "execution_count": null,
   "metadata": {},
   "outputs": [],
   "source": [
    "data[\"Yhat\"] = data[[\"X0\", \"X1\"]] @ theta_hat\n",
    "data"
   ]
  },
  {
   "cell_type": "markdown",
   "metadata": {},
   "source": [
    "How good are our predictions? We can plot $Y$ vs $\\hat{Y}$"
   ]
  },
  {
   "cell_type": "code",
   "execution_count": null,
   "metadata": {},
   "outputs": [],
   "source": [
    "fig = px.scatter(data, x=\"Yhat\", y=\"Y\")\n",
    "fig.add_trace(go.Scatter(x=[-5,5], y=[-5,5], name=\"y=yhat\"))\n",
    "fig.update_layout(xaxis_title =\"Yhat\")"
   ]
  },
  {
   "cell_type": "markdown",
   "metadata": {},
   "source": [
    "We can also plot the residual distribution."
   ]
  },
  {
   "cell_type": "code",
   "execution_count": null,
   "metadata": {},
   "outputs": [],
   "source": [
    "data['residuals'] = data['Y'] - data['Yhat']\n",
    "data"
   ]
  },
  {
   "cell_type": "code",
   "execution_count": null,
   "metadata": {},
   "outputs": [],
   "source": [
    "px.histogram(data, x='residuals', nbins=100)"
   ]
  },
  {
   "cell_type": "markdown",
   "metadata": {},
   "source": [
    "## Visualizing the Model\n",
    "\n",
    "For the synthetic data set we can visualize the model in three dimensions.  To do this we will use the following plotting function that at evenly space grid points in for `X0` and `X1`."
   ]
  },
  {
   "cell_type": "code",
   "execution_count": null,
   "metadata": {},
   "outputs": [],
   "source": [
    "def make_surface(f, X, grid_points = 30, name=\"Linear Model\"):\n",
    "    u = np.linspace(X[:,0].min(),X[:,0].max(), grid_points)\n",
    "    v = np.linspace(X[:,1].min(),X[:,1].max(), grid_points)\n",
    "    xu, xv = np.meshgrid(u,v)\n",
    "    X = np.vstack((xu.flatten(),xv.flatten())).transpose()\n",
    "    z = f(X)\n",
    "    return go.Surface(x=xu, y=xv, z=z.reshape(xu.shape), opacity=0.8, name=name,  showscale=False)"
   ]
  },
  {
   "cell_type": "markdown",
   "metadata": {},
   "source": [
    "Plotting the data and the plane"
   ]
  },
  {
   "cell_type": "code",
   "execution_count": null,
   "metadata": {},
   "outputs": [],
   "source": [
    "simple_plane = make_surface(\n",
    "    lambda X: X @ theta_hat, \n",
    "    data[[\"X0\", \"X1\"]].to_numpy(), \n",
    "    grid_points=5,\n",
    "    name=\"plane\")\n",
    "go.Figure([data_scatter, simple_plane], layout)"
   ]
  },
  {
   "cell_type": "markdown",
   "metadata": {},
   "source": [
    "Notice that the plane is constrained to pass through the origin.  To fix this, we will need to add a constant term to the model.  However, to simplify the process let's switch to using the scikit-learn python library for our modeling."
   ]
  },
  {
   "cell_type": "markdown",
   "metadata": {},
   "source": [
    "## Introducing Scikit-learn\n",
    "\n",
    "In this class, we introduce the normal equations as well as several other algorithms to provide some insight behind how these techniques work and perhaps more importantly how they fail.  However, in practice you will seldom need to implement the core algorithms and will instead use various machine learning software packages.  In this class, we will focus on the widely used scikit-learn package. \n",
    "\n",
    "Scikit-learn, or as the cool kids call it sklearn (pronounced s-k-learn), is an large package of useful machine learning algorithms. For this lecture, we will use the `LinearRegression` model in the [`linear_model`](https://scikit-learn.org/stable/modules/classes.html#module-sklearn.linear_model) module.  The fact that there is an entire module with many different models within the `linear_model` module might suggest that we have a lot to cover still (we do!).  \n",
    "\n",
    "**What you should know about `sklearn` models:**\n",
    "\n",
    "1. Models are created by first building an instance of the model:\n",
    "```python\n",
    "model = SuperCoolModelType(args)\n",
    "```\n",
    "1. You then fit the model by calling the **fit** function passing in data:\n",
    "```python\n",
    "model.fit(df[['X1' 'X1']], df[['Y']])\n",
    "```\n",
    "1. You then can make predictions by calling **predict**:\n",
    "```python\n",
    "model.predict(df2[['X1' 'X1']])\n",
    "```\n",
    "\n",
    "The neat part about sklearn is most models behave like this.  So if you want to try a cool new model you just change the class of mode you are using. \n"
   ]
  },
  {
   "cell_type": "markdown",
   "metadata": {},
   "source": [
    "## Using Scikit-learn"
   ]
  },
  {
   "cell_type": "markdown",
   "metadata": {},
   "source": [
    "We import the `LinearRegression` model"
   ]
  },
  {
   "cell_type": "code",
   "execution_count": null,
   "metadata": {},
   "outputs": [],
   "source": [
    "from sklearn.linear_model import LinearRegression"
   ]
  },
  {
   "cell_type": "markdown",
   "metadata": {},
   "source": [
    "Create an instance of the model.  This time we will add an intercept term to the model directly."
   ]
  },
  {
   "cell_type": "code",
   "execution_count": null,
   "metadata": {},
   "outputs": [],
   "source": [
    "model = LinearRegression(fit_intercept=True)"
   ]
  },
  {
   "cell_type": "markdown",
   "metadata": {},
   "source": [
    "Fit the model by passing it the $X$ and $Y$ data:"
   ]
  },
  {
   "cell_type": "code",
   "execution_count": null,
   "metadata": {},
   "outputs": [],
   "source": [
    "model.fit(data[[\"X0\", \"X1\"]], data[[\"Y\"]])"
   ]
  },
  {
   "cell_type": "code",
   "execution_count": null,
   "metadata": {},
   "outputs": [],
   "source": [
    "model.coef_"
   ]
  },
  {
   "cell_type": "code",
   "execution_count": null,
   "metadata": {},
   "outputs": [],
   "source": [
    "model.intercept_"
   ]
  },
  {
   "cell_type": "markdown",
   "metadata": {},
   "source": [
    "Make some predictions and even save them back to the original DataFrame"
   ]
  },
  {
   "cell_type": "code",
   "execution_count": null,
   "metadata": {},
   "outputs": [],
   "source": [
    "data['Yhat_sklearn'] = model.predict(data[[\"X0\", \"X1\"]])\n",
    "data"
   ]
  },
  {
   "cell_type": "markdown",
   "metadata": {},
   "source": [
    "Analyzing the fit again:"
   ]
  },
  {
   "cell_type": "code",
   "execution_count": null,
   "metadata": {},
   "outputs": [],
   "source": [
    "fig = px.scatter(data, x=\"Yhat_sklearn\", y=\"Y\")\n",
    "fig.add_trace(go.Scatter(x=[0,10], y=[0,10], name=\"y=yhat\"))\n",
    "fig.update_layout(xaxis_title =\"yhat\")"
   ]
  },
  {
   "cell_type": "markdown",
   "metadata": {},
   "source": [
    "We can also plot the residual distribution. "
   ]
  },
  {
   "cell_type": "code",
   "execution_count": null,
   "metadata": {},
   "outputs": [],
   "source": [
    "data['residuals_sklearn'] = data['Y'] - data['Yhat_sklearn'] \n",
    "data"
   ]
  },
  {
   "cell_type": "code",
   "execution_count": null,
   "metadata": {},
   "outputs": [],
   "source": [
    "px.histogram(data['residuals_sklearn'], nbins=100)"
   ]
  },
  {
   "cell_type": "code",
   "execution_count": null,
   "metadata": {},
   "outputs": [],
   "source": [
    "plane_with_bias = make_surface(model.predict, \n",
    "    data[[\"X0\", \"X1\"]].to_numpy(), \n",
    "    grid_points=5,\n",
    "    name=\"Plane with Bias\")\n",
    "go.Figure([data_scatter, simple_plane, plane_with_bias], layout)"
   ]
  },
  {
   "cell_type": "markdown",
   "metadata": {},
   "source": [
    "## Computing Error Metrics\n",
    "\n",
    "As we tune the features in our model it will be important to define some useful error metrics.  "
   ]
  },
  {
   "cell_type": "code",
   "execution_count": null,
   "metadata": {},
   "outputs": [],
   "source": [
    "from sklearn.metrics import mean_squared_error, mean_absolute_error"
   ]
  },
  {
   "cell_type": "code",
   "execution_count": null,
   "metadata": {},
   "outputs": [],
   "source": [
    "print(\"Mean Squared Error:\", \n",
    "      mean_squared_error(data[\"Y\"], data[\"Yhat_sklearn\"]))"
   ]
  },
  {
   "cell_type": "code",
   "execution_count": null,
   "metadata": {},
   "outputs": [],
   "source": [
    "print(\"Mean Absolute Error:\", \n",
    "      mean_absolute_error(data[\"Y\"], data[\"Yhat_sklearn\"]))"
   ]
  },
  {
   "cell_type": "code",
   "execution_count": null,
   "metadata": {},
   "outputs": [],
   "source": [
    "print(\"Root Mean Squared Error:\", \n",
    "      np.sqrt(mean_squared_error(data[\"Y\"], data[\"Yhat_sklearn\"])))"
   ]
  },
  {
   "cell_type": "code",
   "execution_count": null,
   "metadata": {},
   "outputs": [],
   "source": [
    "print(\"Standard Deviation of Residuals:\",  \n",
    "      np.std(data['residuals_sklearn']))"
   ]
  },
  {
   "cell_type": "markdown",
   "metadata": {},
   "source": [
    "As we play with the model we might want a standard visualization"
   ]
  },
  {
   "cell_type": "code",
   "execution_count": null,
   "metadata": {},
   "outputs": [],
   "source": [
    "from plotly.subplots import make_subplots\n",
    "\n",
    "def evaluate_model(predict, grid_points=30):  \n",
    "    # Compute Y and Yhat\n",
    "    Y = data[\"Y\"].to_numpy()\n",
    "    Yhat = predict(data[[\"X0\", \"X1\"]].to_numpy()).flatten()\n",
    "    # Compute and print error metrics\n",
    "    print(\"Mean Absolute Error:\", mean_absolute_error(Y, Yhat))\n",
    "    print(\"Root Mean Squared Error:\", np.sqrt(mean_squared_error(Y, Yhat)))\n",
    "\n",
    "    # Make Side by Side Plots\n",
    "    fig = make_subplots(rows=1, cols=2, \n",
    "                        specs=[[{'type': 'scene'}, {'type': 'xy'}]])\n",
    "    fig.add_trace(data_scatter, row=1, col=1)\n",
    "    surf = make_surface(predict, \n",
    "                       data[[\"X0\", \"X1\"]].to_numpy(), \n",
    "                       grid_points=grid_points)\n",
    "    fig.add_trace(surf, row=1, col=1)\n",
    "    fig.update_layout(layout)\n",
    "    \n",
    "    fig.add_trace(go.Scatter(x=Yhat, y=Y, mode=\"markers\"), row=1, col=2)\n",
    "    ymin = np.min([np.min(Y), np.min(Yhat)])\n",
    "    ymax = np.max([np.max(Y), np.max(Yhat)])\n",
    "    fig.add_trace(go.Scatter(x=[ymin,ymax], y=[ymin,ymax], name=\"y=yhat\"))\n",
    "    fig.update_layout(xaxis_title =\"yhat\", yaxis_title=\"Y\")\n",
    "    fig.update_layout(showlegend=False)\n",
    "    fig.show()"
   ]
  },
  {
   "cell_type": "markdown",
   "metadata": {},
   "source": [
    "Examining our latest model:"
   ]
  },
  {
   "cell_type": "code",
   "execution_count": null,
   "metadata": {},
   "outputs": [],
   "source": [
    "evaluate_model(model.predict, grid_points=5)"
   ]
  },
  {
   "cell_type": "markdown",
   "metadata": {},
   "source": [
    "Our first model without the intercept term:"
   ]
  },
  {
   "cell_type": "code",
   "execution_count": null,
   "metadata": {},
   "outputs": [],
   "source": [
    "no_intercept_model = LinearRegression(fit_intercept=False)\n",
    "no_intercept_model.fit(data[[\"X0\", \"X1\"]], data[[\"Y\"]])"
   ]
  },
  {
   "cell_type": "code",
   "execution_count": null,
   "metadata": {},
   "outputs": [],
   "source": [
    "evaluate_model(no_intercept_model.predict, grid_points=5)"
   ]
  },
  {
   "cell_type": "markdown",
   "metadata": {},
   "source": [
    "Examining the above data we see that there is some **periodic** structure as well as some **curvature**. Can we fit this data with a linear model?"
   ]
  }
 ],
 "metadata": {
  "kernelspec": {
   "display_name": "Python 3",
   "language": "python",
   "name": "python3"
  },
  "language_info": {
   "codemirror_mode": {
    "name": "ipython",
    "version": 3
   },
   "file_extension": ".py",
   "mimetype": "text/x-python",
   "name": "python",
   "nbconvert_exporter": "python",
   "pygments_lexer": "ipython3",
   "version": "3.8.5"
  }
 },
 "nbformat": 4,
 "nbformat_minor": 4
}
