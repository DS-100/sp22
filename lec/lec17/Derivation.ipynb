{
 "cells": [
  {
   "cell_type": "markdown",
   "metadata": {
    "jp-MarkdownHeadingCollapsed": true,
    "tags": []
   },
   "source": [
    "# Derivation of the Bias-Variance Decomposition#\n",
    "\n",
    "### A. Adhikari, Data 100 Spring 2020 ###\n",
    "\n",
    "(slightly modified for Fall 2020)<br>\n",
    "To save this file as a PDF, in Jupyter go to File -> \"Download As...\"/\"Save and Export Notebook As...\" -> \"PDF via LaTeX (.pdf)\"/\"PDF\". The menu options may vary depending on whether you are using Jupyter Notebook or Jupyter Lab."
   ]
  },
  {
   "cell_type": "markdown",
   "metadata": {
    "tags": []
   },
   "source": [
    "### Preliminary ###\n",
    "\n",
    "Before proceeding with this derivation, you should be familiar with the Random Variables lecture (Lecture 3 in Summer 2020). In particular, you really need to understand expectation and variance.\n",
    "\n",
    "This result will be used below. You don't have to know how to prove it.\n",
    "\n",
    "**If $V$ and $W$ are independent random variables then $\\mathbb{E}(VW) = \\mathbb{E}(V)\\mathbb{E}(W)$**.\n",
    "\n",
    "**Proof:** We'll do this in the discrete finite case. Trust that it's true in greater generality.\n",
    "\n",
    "The job is to calculate the weighted average of the values of $VW$, where the weights are the probabilities of those values. Here goes.\n",
    "\n",
    "\\begin{align*}\n",
    "\\mathbb{E}(VW) ~ &= ~ \\sum_v\\sum_w vwP(V=v \\text{ and } W=w) \\\\\n",
    "&= ~ \\sum_v\\sum_w vwP(V=v)P(W=w) ~~~~ \\text{by independence} \\\\\n",
    "&= ~ \\sum_v vP(V=v)\\sum_w wP(W=w) \\\\\n",
    "&= ~ \\mathbb{E}(V)\\mathbb{E}(W)\n",
    "\\end{align*}"
   ]
  },
  {
   "cell_type": "markdown",
   "metadata": {},
   "source": [
    "### What's in this Notebook ###\n",
    "\n",
    "- The first part of what follows is an exposition of the definitions on the slides. \n",
    "- The derivation starts at Step 1.\n",
    "- Steps 1-3 is where the action is. Step 4 just puts together the results of Steps 2 and 3. "
   ]
  },
  {
   "cell_type": "markdown",
   "metadata": {},
   "source": [
    "## Assumptions ##\n",
    "\n",
    "**1.** For each individual, the response is $g(x) + \\epsilon$ where:\n",
    "\n",
    "- $x$ consists of the **fixed** values of all the predictor variables for that individual\n",
    "- $g$ is a **fixed** function, typically unknown; sometimes called the *true* function or the *signal*\n",
    "- $\\epsilon$ is a **random error** with mean 0 and variance $\\sigma^2$, independent of all other individuals; it is sometimes called *noise* and is *unobservable,* which means that we never get to see it\n",
    "\n",
    "**2.** We have a random sample from the model above. We don't know $g$ so we fit something of our choice. \n",
    "\n",
    "**3.** A new individual comes along at $x$. Their response is $Y = g(x) + \\epsilon$ for a brand new copy of $\\epsilon$. This response is random because $\\epsilon$ is random, and has a hidden $x$ in it because its value is $g(x)$ plus the noise. \n",
    "\n",
    "**4.** $\\hat{Y}(x)$ is our model's predicted response for this indiviual. It is random because it depends on our sample which is random."
   ]
  },
  {
   "cell_type": "markdown",
   "metadata": {},
   "source": [
    "## Definitions ##\n",
    "\n",
    "### Observation Variance ###\n",
    "The point corresponding to the new observation is $(x, Y)$ where $Y = g(x) + \\epsilon$. Remember that $g(x)$ is a constant,$\\mathbb{E}(\\epsilon) = 0$, and $\\mathbb{V}ar(\\epsilon) = \\sigma^2$. It follows that\n",
    "\n",
    "- $\\mathbb{E}(Y) = g(x)$\n",
    "- $\\mathbb{V}ar(Y) = \\mathbb{V}ar(\\epsilon) = \\sigma^2$\n",
    "\n",
    "That is why\n",
    "$$\n",
    "\\text{observation variance} ~ = ~ \\sigma^2\n",
    "$$\n",
    "\n",
    "**Note:** Since $\\epsilon$ is centered, that is, $\\mathbb{E}(\\epsilon) = 0$, we have $\\mathbb{V}ar(\\epsilon) = \\mathbb{E}(\\epsilon^2)$. So you will sometimes see the observation variance $\\sigma^2$ written as $\\mathbb{E}(\\epsilon^2)$ instead of $\\mathbb{V}ar(Y)$ or $\\mathbb{V}ar(\\epsilon)$.\n",
    "\n",
    "### Model Bias ###\n",
    "The *bias* of an estimator is the expected difference between the estimator and what it's trying to estimate.\n",
    "\n",
    "For the new individual at $x$, the *model bias* is defined by\n",
    "\n",
    "$$\n",
    "\\text{model bias} ~ = ~ \\mathbb{E}(\\hat{Y}(x) - Y) ~ = ~ \\mathbb{E}(\\hat{Y}(x)) - \\mathbb{E}(Y) ~ = ~ \\mathbb{E}(\\hat{Y}(x)) - g(x)\n",
    "$$\n",
    "\n",
    "This is the difference between our prediction at $x$ and the true signal at $x$, averaged over all possible samples.\n",
    "\n",
    "The key observation is that bias is a constant (that is, a number), not a random variable. It is a systematic error in the estimate. \n",
    "\n",
    "### Model Variance ###\n",
    "We came up with our prediction $\\hat{Y}(x)$ based on the model we chose to fit, using data from our random sample. Had that sample come out differently, our prediction might have been different. For each sample, we have a prediction, so the prediction is a random variable and thus has a mean and a variance.\n",
    "\n",
    "The variance of the predictor $\\hat{Y}(x)$ is called the *model variance*. By the definition of variance,\n",
    "\n",
    "$$\n",
    "\\text{model variance} ~ = ~ \\mathbb{E}\\big{(} (\\hat{Y}(x) - \\mathbb{E}(\\hat{Y}(x)))^2 \\big{)}\n",
    "$$\n",
    "\n",
    "### Model Risk ###\n",
    "This is the mean squared error of our prediction.\n",
    "\n",
    "$$\n",
    "\\text{model risk} ~ = ~ \\mathbb{E}\\big{(} (Y - \\hat{Y}(x))^2 \\big{)}\n",
    "$$"
   ]
  },
  {
   "cell_type": "markdown",
   "metadata": {},
   "source": [
    "### Goal ###\n",
    "Decompose the model risk into recognizable components."
   ]
  },
  {
   "cell_type": "markdown",
   "metadata": {},
   "source": [
    "### Step 1 (Figure on Slide 26) ###\n",
    "\\begin{align*}\n",
    "\\text{model risk} ~ &= ~ \\mathbb{E}\\big{(} (Y - \\hat{Y}(x))^2 \\big{)} \\\\\n",
    "&= ~ \\mathbb{E}\\big{(} (g(x) + \\epsilon - \\hat{Y}(x))^2 \\big{)} \\\\\n",
    "&= ~ \\mathbb{E}\\big{(} (\\epsilon + (g(x) - \\hat{Y}(x)))^2 \\big{)} \\\\\n",
    "&= ~ \\mathbb{E}(\\epsilon^2) + 2\\mathbb{E}(\\epsilon(g(x) - \\hat{Y}(x))) + \\mathbb{E}\\big{(}(g(x) - \\hat{Y}(x))^2\\big{)}\n",
    "\\end{align*}\n",
    "\n",
    "On the right hand side: \n",
    "\n",
    "- The first term is the observation variance $\\sigma^2$.\n",
    "- The cross product term is 0 because $\\epsilon$ is independent of $g(x) - \\hat{Y}(x)$ and $\\mathbb{E}(\\epsilon) = 0$\n",
    "- The last term is the mean squared difference between our predicted value and the value of the true function at $x$"
   ]
  },
  {
   "cell_type": "markdown",
   "metadata": {},
   "source": [
    "### Step 2 (Figure on Slide 27) ###\n",
    "At this stage we have\n",
    "\n",
    "$$\n",
    "\\text{model risk} ~ = ~ \\text{observation variance} + \\mathbb{E}\\big{(}(g(x) - \\hat{Y}(x))^2\\big{)}\n",
    "$$\n",
    "\n",
    "We don't yet have a good understanding of $g(x) - \\hat{Y}(x)$. But we do understand the deviation $D_{\\hat{Y}(x)} = \\hat{Y}(x) - \\mathbb{E}(\\hat{Y}(x))$. We know that\n",
    "\n",
    "- $\\mathbb{E}(D_{\\hat{Y}(x)}) ~ = ~ 0$\n",
    "- $\\mathbb{E}(D_{\\hat{Y}(x)}^2) ~ = ~ \\text{model variance}$\n",
    "\n",
    "So let's add and subtract $\\mathbb{E}(\\hat{Y}(x))$ and see if that helps.\n",
    "\n",
    "$$\n",
    "g(x) - \\hat{Y}(x) ~ = ~ (g(x) - \\mathbb{E}(\\hat{Y}(x)) + (\\mathbb{E}(\\hat{Y}(x) - \\hat{Y}(x)) \n",
    "$$\n",
    "\n",
    "The first term on the right hand side is the model bias at $x$. The second term is $-D_{\\hat{Y}(x)}$. So\n",
    "\n",
    "$$\n",
    "g(x) - \\hat{Y}(x) ~ = ~ \\text{model bias} - D_{\\hat{Y}(x)}\n",
    "$$"
   ]
  },
  {
   "cell_type": "markdown",
   "metadata": {},
   "source": [
    "### Step 3 ###\n",
    "\n",
    "Remember that the model bias at $x$ is a constant, not a random variable. Think of it as your favorite number, say 10. Then \n",
    "\n",
    "\\begin{align*}\n",
    "\\mathbb{E}\\big{(}(g(x) - \\hat{Y}(x))^2\\big{)} ~ & = ~ \\text{model bias}^2 - 2(\\text{model bias})\\mathbb{E}(D_{\\hat{Y}(x)}) + \\mathbb{E}(D_{\\hat{Y}(x)}^2) \\\\\n",
    "&= ~ \\text{model bias}^2 - 0 + \\text{model variance} \\\\\n",
    "&= ~ \\text{model bias}^2 + \\text{model variance}\n",
    "\\end{align*}\n"
   ]
  },
  {
   "cell_type": "markdown",
   "metadata": {},
   "source": [
    "### Step 4: Bias-Variance Decomposition ###\n",
    "\n",
    "In Step 2 we had\n",
    "\n",
    "$$\n",
    "\\text{model risk} ~ = ~ \\text{observation variance} + \\mathbb{E}\\big{(}(g(x) - \\hat{Y}(x))^2\\big{)}\n",
    "$$\n",
    "\n",
    "Step 3 showed\n",
    "\n",
    "$$\n",
    "\\mathbb{E}\\big{(}(g(x) - \\hat{Y}(x))^2\\big{)} ~ = ~ \\text{model bias}^2 + \\text{model variance}\n",
    "$$\n",
    "\n",
    "Thus we have shown the bias-variance decomposition\n",
    "\n",
    "$$\n",
    "\\text{model risk} ~ = ~ \\text{observation variance} + \\text{model bias}^2 + \\text{model variance}\n",
    "$$\n",
    "\n",
    "That is,\n",
    "\n",
    "$$\n",
    "\\mathbb{E}\\big{(} (Y - \\hat{Y}(x))^2 \\big{)} ~ = ~ \\sigma^2 + \\mathbb{E}\\big{(} (g(x) - \\mathbb{E}(\\hat{Y}(x))^2\\big{)} + \\mathbb{E}\\big{(} (\\hat{Y}(x) - \\mathbb{E}(\\hat{Y}(x))^2 \\big{)}\n",
    "$$"
   ]
  },
  {
   "cell_type": "markdown",
   "metadata": {},
   "source": [
    "### Special Case $\\hat{Y}(x) = f_{\\hat{\\theta}}(x)$ ###\n",
    "\n",
    "In the case where we are making our predictions by fitting some function $f$ that involves parameters $\\theta$, our estimate $\\hat{Y}$ is $f_{\\hat{\\theta}}$ where $\\hat{\\theta}$ has been estimated from the data and hence is random.\n",
    "\n",
    "In the bias-variance decomposition\n",
    "\n",
    "$$\n",
    "\\mathbb{E}\\big{(} (Y - \\hat{Y}(x))^2 \\big{)} ~ = ~ \\sigma^2 + \\mathbb{E}\\big{(} (g(x) - \\mathbb{E}(\\hat{Y}(x))^2\\big{)} + \\mathbb{E}\\big{(} (\\hat{Y}(x) - \\mathbb{E}(\\hat{Y}(x))^2 \\big{)}\n",
    "$$\n",
    "\n",
    "just plug in the particular prediction $f_{\\hat{\\theta}}$ in place of the general prediction $\\hat{Y}$:\n",
    "\n",
    "$$\n",
    "\\mathbb{E}\\big{(} (Y - f_{\\hat{\\theta}}(x))^2 \\big{)} ~ = ~ \\sigma^2 + \\mathbb{E}\\big{(} (g(x) - \\mathbb{E}(f_{\\hat{\\theta}}(x))^2\\big{)} + \\mathbb{E}\\big{(} (f_{\\hat{\\theta}}(x) - \\mathbb{E}(f_{\\hat{\\theta}}(x))^2 \\big{)}\n",
    "$$"
   ]
  }
 ],
 "metadata": {
  "kernelspec": {
   "display_name": "Python 3 (ipykernel)",
   "language": "python",
   "name": "python3"
  },
  "language_info": {
   "codemirror_mode": {
    "name": "ipython",
    "version": 3
   },
   "file_extension": ".py",
   "mimetype": "text/x-python",
   "name": "python",
   "nbconvert_exporter": "python",
   "pygments_lexer": "ipython3",
   "version": "3.9.9"
  }
 },
 "nbformat": 4,
 "nbformat_minor": 4
}
