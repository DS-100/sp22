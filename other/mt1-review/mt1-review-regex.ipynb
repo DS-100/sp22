{
 "cells": [
  {
   "cell_type": "markdown",
   "id": "d11d9daa-1cdc-49d8-b3e1-137404671a20",
   "metadata": {},
   "source": [
    "# Data 100 Mt 1 Review Session: Regex"
   ]
  },
  {
   "cell_type": "code",
   "execution_count": 1,
   "id": "ae77491e-d1e5-43d4-89cd-93c455d19985",
   "metadata": {},
   "outputs": [],
   "source": [
    "import re"
   ]
  },
  {
   "cell_type": "markdown",
   "id": "c8b0c789-f8eb-41b8-b8d4-597e1e44b9e2",
   "metadata": {},
   "source": [
    "## 5a\n",
    "The Data 100 staff decided to raise some funding through starting a restaurant and created a text generator to assist with the text messaging orders, but there’s an issue. The generator would create run-on sentences when prompting the customers.\n",
    "\n",
    "When asking the customer for drink orders, the generator asks this question:\n",
    "```\n",
    "    s1 = \"do you want to add apple juice to your order\n",
    "          or how about a can of coke and what about water but\n",
    "          would you rather have chocolate milk instead\"\n",
    "```\n",
    "\n",
    "We want to separate the run-on sentence by the conjunctions so we can ask each question separately. Specifically, separate `s1` on `\"and\"`, `\"or\"`, `\"but\"` such that our output consists of all the sentences separated as items in a list as shown below. Do now worry about any potential whitespace before or after any of the strings of the resulting list.\n",
    "Note: Do not worry about the edge cases in the English language. We will only grade based on the strings we provide in the problem.\n",
    "\n",
    "```\n",
    "[\n",
    "    \"do you want to add apple juice to your order \",\n",
    "    \"how about a can of coke \",\n",
    "    \"what about water \",\n",
    "    \"would you rather have chocolate milk instead\",\n",
    "]\n",
    "```\n"
   ]
  },
  {
   "cell_type": "code",
   "execution_count": 2,
   "id": "e21333ca-ebfe-45ee-8e99-4a3e887588c4",
   "metadata": {},
   "outputs": [
    {
     "data": {
      "text/plain": [
       "'do you want to add apple juice to your order or how about a can of coke and what about water but would you rather have chocolate milk instead'"
      ]
     },
     "execution_count": 2,
     "metadata": {},
     "output_type": "execute_result"
    }
   ],
   "source": [
    "s1 = \"do you want to add apple juice to your order\" \\\n",
    "    + \" or how about a can of coke and what about water\" \\\n",
    "    + \" but would you rather have chocolate milk instead\"\n",
    "s1"
   ]
  },
  {
   "cell_type": "markdown",
   "id": "e30c5d49-d4e1-4200-9787-7579f3ba6eb7",
   "metadata": {},
   "source": [
    "Fill in the blanks in the code below such that it outputs the above:"
   ]
  },
  {
   "cell_type": "code",
   "execution_count": 12,
   "id": "513a5346-75e7-4fde-8f43-4f788c481d7d",
   "metadata": {},
   "outputs": [
    {
     "data": {
      "text/plain": [
       "['do you want to add apple juice to your order',\n",
       " 'how about a can of coke',\n",
       " 'what about water',\n",
       " 'would you rather have chocolate milk instead']"
      ]
     },
     "execution_count": 12,
     "metadata": {},
     "output_type": "execute_result"
    }
   ],
   "source": [
    "pattern = r\"\\s+and\\s+|\\s+or\\s+|\\s+but\\s+\"\n",
    "re.split(pattern, s1)"
   ]
  },
  {
   "cell_type": "markdown",
   "id": "f4b3f9f2-f50e-4a5e-8fc2-ff1f6e39e138",
   "metadata": {},
   "source": [
    "## 5b\n",
    "The generator machine actually misbehaves even more as it inserts extra whitespaces around the conjunctions (`\"and\"`, `\"or\"`, `\"but\"`) when merging sentences.\n",
    "\n",
    "```\n",
    "    s2 = \"do you want to add apple juice to your\n",
    "          order \\n\\t  \\nor\\t\\t how about a can of\n",
    "          coke \\t  \\nand    what about water   \\t\\n\\nbut\n",
    "          \\t\\t would you rather have chocolate milk instead\"\n",
    "```\n",
    "\n",
    "Edit your regular expression from the previous part such that it separates the conjunctions and excludes the extra whitespaces. The output should look exactly the same as the previous part, but using `s2` instead of `s1`. The escape character on `”t”` and `”n”` denote a tab and a newline, respectively."
   ]
  },
  {
   "cell_type": "code",
   "execution_count": 3,
   "id": "6bf26325-23f4-4553-8dfe-06d70b73b85d",
   "metadata": {},
   "outputs": [
    {
     "data": {
      "text/plain": [
       "'do you want to add apple juice to your order \\n\\t \\nor\\t\\t how about a can of coke \\t \\nand what about water \\t\\n\\nbut\\t\\t would you rather have chocolate milk instead'"
      ]
     },
     "execution_count": 3,
     "metadata": {},
     "output_type": "execute_result"
    }
   ],
   "source": [
    "s2 = \"do you want to add apple juice to your\" \\\n",
    "    + \" order \\n\\t \\nor\\t\\t how about a can of\" \\\n",
    "    + \" coke \\t \\nand what about water \\t\\n\\nbut\" \\\n",
    "    + \"\\t\\t would you rather have chocolate milk instead\"\n",
    "s2"
   ]
  },
  {
   "cell_type": "code",
   "execution_count": 13,
   "id": "bf01be79-148b-4b40-96e8-47ab4175dbd1",
   "metadata": {},
   "outputs": [
    {
     "data": {
      "text/plain": [
       "['do you want to add apple juice to your order',\n",
       " 'or',\n",
       " 'how about a can of coke',\n",
       " 'and',\n",
       " 'what about water',\n",
       " 'but',\n",
       " 'would you rather have chocolate milk instead']"
      ]
     },
     "execution_count": 13,
     "metadata": {},
     "output_type": "execute_result"
    }
   ],
   "source": [
    "updated_pattern = r\"\\s+(and|or|but)\\s+\"\n",
    "re.split(updated_pattern, s2)"
   ]
  },
  {
   "cell_type": "markdown",
   "id": "fc3da24a-d694-4b9e-b6c1-4e8df42b3c1e",
   "metadata": {},
   "source": [
    "## 5c\n",
    "Say Wallace responds back to the generator with a large order.\n",
    "```\n",
    "    s3 = \"I want to order 50,000 water and 75 apples\n",
    "          and 40 pizzas and 100,999 bobas and 4,321 tacos but\n",
    "          I also want 23 juices and 456 aloes and 9,876\n",
    "          burgers\"\n",
    "```\n",
    "The staff wants to identify all the orders Wallace requested in tuples:\n",
    "```\n",
    "           >>> [(‘50,000’, ‘water’), (‘75’, ‘apples’), ...  ]\n",
    "```\n",
    "Fill out the code below such that the above list of tuples is generated. Note:\n",
    "- All numbers will be followed by a single whitespace character\n",
    "- All objects following the numbers will only be 1 alphabetic word \n",
    "- Numbers in the thousands will have a comma\n",
    "- Range of possible numbers will be between 1 - 999,999\n",
    "- Hint: use multiple capturing groups to split into tuples."
   ]
  },
  {
   "cell_type": "code",
   "execution_count": 4,
   "id": "32f4c04b-6800-41b8-9bc7-dbc3f548fb57",
   "metadata": {},
   "outputs": [
    {
     "data": {
      "text/plain": [
       "'I want to order 50,000 water and 75 apples and 40 pizzas and 100,999 bobas and 4,321 tacos but I also want 23 juices and 456 aloes and 9,876 burgers'"
      ]
     },
     "execution_count": 4,
     "metadata": {},
     "output_type": "execute_result"
    }
   ],
   "source": [
    "s3 = \"I want to order 50,000 water and 75 apples\" \\\n",
    "    + \" and 40 pizzas and 100,999 bobas and 4,321 tacos but\" \\\n",
    "    + \" I also want 23 juices and 456 aloes and 9,876\" \\\n",
    "    + \" burgers\"\n",
    "s3"
   ]
  },
  {
   "cell_type": "code",
   "execution_count": null,
   "id": "64b30e6d-0cbb-4886-b1d8-1c2ef8baea7c",
   "metadata": {},
   "outputs": [],
   "source": [
    "re.______(r\"__________________\", s3)"
   ]
  }
 ],
 "metadata": {
  "kernelspec": {
   "display_name": "Python 3 (ipykernel)",
   "language": "python",
   "name": "python3"
  },
  "language_info": {
   "codemirror_mode": {
    "name": "ipython",
    "version": 3
   },
   "file_extension": ".py",
   "mimetype": "text/x-python",
   "name": "python",
   "nbconvert_exporter": "python",
   "pygments_lexer": "ipython3",
   "version": "3.9.10"
  }
 },
 "nbformat": 4,
 "nbformat_minor": 5
}
